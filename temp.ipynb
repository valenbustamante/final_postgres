{
 "cells": [
  {
   "cell_type": "code",
   "execution_count": 1,
   "id": "0c8a5b40",
   "metadata": {},
   "outputs": [],
   "source": [
    "from utils import get_connection"
   ]
  },
  {
   "cell_type": "code",
   "execution_count": 14,
   "id": "9cec6b67",
   "metadata": {},
   "outputs": [],
   "source": [
    "conn = get_connection()\n",
    "cursor = conn.cursor()"
   ]
  },
  {
   "cell_type": "code",
   "execution_count": 15,
   "id": "f1a33773",
   "metadata": {},
   "outputs": [],
   "source": [
    "cursor.execute(\"SET search_path TO uninorte_db;\")\n"
   ]
  },
  {
   "cell_type": "code",
   "execution_count": 16,
   "id": "5755b243",
   "metadata": {},
   "outputs": [],
   "source": [
    "\n",
    "cursor.execute(\"\"\"\n",
    "    UPDATE requisitos\n",
    "       SET tipo_req = CASE\n",
    "           WHEN id_programa IN (1, 2, 4, 5) THEN 'Obligatorio'\n",
    "           WHEN id_programa IN (3, 6)       THEN 'Opcional'\n",
    "           ELSE NULL\n",
    "       END;\n",
    "\"\"\")\n",
    "conn.commit()\n",
    "\n"
   ]
  },
  {
   "cell_type": "code",
   "execution_count": 4,
   "id": "42746650",
   "metadata": {},
   "outputs": [],
   "source": [
    "conn.commit()"
   ]
  },
  {
   "cell_type": "code",
   "execution_count": null,
   "id": "0c68c081",
   "metadata": {},
   "outputs": [],
   "source": [
    "conn.close()"
   ]
  }
 ],
 "metadata": {
  "kernelspec": {
   "display_name": "env_py",
   "language": "python",
   "name": "python3"
  },
  "language_info": {
   "codemirror_mode": {
    "name": "ipython",
    "version": 3
   },
   "file_extension": ".py",
   "mimetype": "text/x-python",
   "name": "python",
   "nbconvert_exporter": "python",
   "pygments_lexer": "ipython3",
   "version": "3.9.18"
  }
 },
 "nbformat": 4,
 "nbformat_minor": 5
}
